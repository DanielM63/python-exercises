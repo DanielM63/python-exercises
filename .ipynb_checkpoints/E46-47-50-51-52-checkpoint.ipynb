{
 "cells": [
  {
   "cell_type": "code",
   "execution_count": null,
   "metadata": {},
   "outputs": [],
   "source": [
    "## Professor, Exercises 46, 47, 50, 51, and 52 I cannot complete due to an issue with Exercise 46.\n",
    "## To install the virtual environment I need Python, pip, and setuptools to\n",
    "## all be certain versions. My current image of Jupyter does not match them and thus\n",
    "## I cannot install the environment."
   ]
  }
 ],
 "metadata": {
  "kernelspec": {
   "display_name": "Python 3",
   "language": "python",
   "name": "python3"
  },
  "language_info": {
   "codemirror_mode": {
    "name": "ipython",
    "version": 3
   },
   "file_extension": ".py",
   "mimetype": "text/x-python",
   "name": "python",
   "nbconvert_exporter": "python",
   "pygments_lexer": "ipython3",
   "version": "3.6.5"
  }
 },
 "nbformat": 4,
 "nbformat_minor": 2
}
