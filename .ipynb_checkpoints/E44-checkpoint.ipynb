{
 "cells": [
  {
   "cell_type": "code",
   "execution_count": 3,
   "metadata": {},
   "outputs": [],
   "source": [
    "## Behavior of Parent is set\n",
    "class Parent(object):\n",
    "\n",
    "    def override(self):\n",
    "        print(\"PARENT override()\")\n",
    "\n",
    "    def implicit(self):\n",
    "        print(\"PARENT implicit()\")\n",
    "\n",
    "    def altered(self):\n",
    "        print(\"PARENT altered()\")\n",
    "\n",
    "## Behavior of Child is set to that of Parent but has its own Override and altered now\n",
    "class Child(Parent):\n",
    "\n",
    "    def override(self):\n",
    "        print(\"CHILD override()\")\n",
    "\n",
    "    def altered(self):\n",
    "        print(\"CHILD, BEFORE PARENT altered()\")\n",
    "        super(Child, self).altered()\n",
    "        print(\"CHILD, AFTER PARENT altered()\")\n",
    "\n",
    "## dad is directed to the Parent Class\n",
    "dad = Parent()\n",
    "## son is directed to the Child Class\n",
    "son = Child()\n",
    "\n",
    "## The implicit behavior of their respective classes are called\n",
    "dad.implicit()\n",
    "son.implicit()\n",
    "\n",
    "## The override behavior of their respective classes are called\n",
    "dad.override()\n",
    "son.override()\n",
    "\n",
    "## The altered behavior of their respective classes are called\n",
    "dad.altered()\n",
    "son.altered()"
   ]
  }
 ],
 "metadata": {
  "kernelspec": {
   "display_name": "Python 3",
   "language": "python",
   "name": "python3"
  },
  "language_info": {
   "codemirror_mode": {
    "name": "ipython",
    "version": 3
   },
   "file_extension": ".py",
   "mimetype": "text/x-python",
   "name": "python",
   "nbconvert_exporter": "python",
   "pygments_lexer": "ipython3",
   "version": "3.6.5"
  }
 },
 "nbformat": 4,
 "nbformat_minor": 2
}
