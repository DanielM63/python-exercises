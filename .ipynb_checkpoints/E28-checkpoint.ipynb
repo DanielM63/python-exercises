{
 "cells": [
  {
   "cell_type": "code",
   "execution_count": 1,
   "metadata": {},
   "outputs": [
    {
     "ename": "SyntaxError",
     "evalue": "invalid syntax (<ipython-input-1-906c12ae8fa0>, line 3)",
     "output_type": "error",
     "traceback": [
      "\u001b[0;36m  File \u001b[0;32m\"<ipython-input-1-906c12ae8fa0>\"\u001b[0;36m, line \u001b[0;32m3\u001b[0m\n\u001b[0;31m    1. True and True # True\u001b[0m\n\u001b[0m          ^\u001b[0m\n\u001b[0;31mSyntaxError\u001b[0m\u001b[0;31m:\u001b[0m invalid syntax\n"
     ]
    }
   ],
   "source": [
    "# First set of Problems\n",
    "\n",
    "1. True and True # True\n",
    "2. False and True # False\n",
    "3. 1 == 1 and 2 == 1 # True and False making it a False\n",
    "4. \"test\" == \"test\" # True\n",
    "5. 1 == 1 or 2 != 1 # True and True making it a True\n",
    "6. True and 1 == 1 # True and True making it a True\n",
    "7. False and 0 != 0 # False and False making it a False\n",
    "8. True or 1 == 1 # True and True making it a True\n",
    "9. \"test\" == \"testing\" # False\n",
    "10. 1 != 0 and 2 == 1 # True and False making it a False\n",
    "11. \"test\" != \"testing\" # True\n",
    "12. \"test\" == 1 # False\n",
    "13. not (True and False) # not False so True\n",
    "14. not (1 == 1 and 0 != 1) # not (True and True) so False\n",
    "15. not (10 == 1 or 1000 == 1000) # not (False and True) so True\n",
    "16. not (1 != 10 or 3 == 4) # not (True and False) so True\n",
    "17. not (\"testing\" == \"testing\" and \"Zed\" == \"Cool Guy\") # not (True and False) so True\n",
    "18. 1 == 1 and (not (\"testing\" == 1 or 1 == 0)) \n",
    "    # True and (not(False or False)) is True and True so True\n",
    "19. \"chunky\" == \"bacon\" and (not (3 == 4 or 3 == 3))\n",
    "    # False and (not(False or True)) is False and False so False\n",
    "20. 3 == 3 and (not (\"testing\" == \"testing\" or \"Python\" == \"Fun\"))\n",
    "    # True and (not(True or False)) is True and False so False"
   ]
  },
  {
   "cell_type": "code",
   "execution_count": null,
   "metadata": {},
   "outputs": [],
   "source": []
  }
 ],
 "metadata": {
  "kernelspec": {
   "display_name": "Python 3",
   "language": "python",
   "name": "python3"
  },
  "language_info": {
   "codemirror_mode": {
    "name": "ipython",
    "version": 3
   },
   "file_extension": ".py",
   "mimetype": "text/x-python",
   "name": "python",
   "nbconvert_exporter": "python",
   "pygments_lexer": "ipython3",
   "version": "3.6.5"
  }
 },
 "nbformat": 4,
 "nbformat_minor": 2
}
