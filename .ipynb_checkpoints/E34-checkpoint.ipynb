{
 "cells": [
  {
   "cell_type": "code",
   "execution_count": null,
   "metadata": {},
   "outputs": [],
   "source": [
    "# animals = [ ’ bear ’ , ’ python3 . 6 ’ , ’ peacock ’ , ’ kangaroo ’ , ’whale ’ , ’ platypus ’ ]\n",
    "# 1. The animal at 1.\n",
    "    # python3.6\n",
    "# 2. The third (3rd) animal.\n",
    "    # peacock\n",
    "# 3. The first (1st) animal.\n",
    "    # bear\n",
    "# 4. The animal at 3.\n",
    "    # kangaroo\n",
    "# 5. The fifth (5th) animal.\n",
    "    # whale\n",
    "# 6. The animal at 2.\n",
    "    # peacock\n",
    "# 7. The sixth (6th) animal.\n",
    "    # platypus\n",
    "# 8. The animal at 4.\n",
    "    # whale"
   ]
  }
 ],
 "metadata": {
  "kernelspec": {
   "display_name": "Python 3",
   "language": "python",
   "name": "python3"
  },
  "language_info": {
   "codemirror_mode": {
    "name": "ipython",
    "version": 3
   },
   "file_extension": ".py",
   "mimetype": "text/x-python",
   "name": "python",
   "nbconvert_exporter": "python",
   "pygments_lexer": "ipython3",
   "version": "3.6.5"
  }
 },
 "nbformat": 4,
 "nbformat_minor": 2
}
