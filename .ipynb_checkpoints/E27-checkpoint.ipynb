{
 "cells": [
  {
   "cell_type": "code",
   "execution_count": null,
   "metadata": {},
   "outputs": [],
   "source": [
    "# NOT True?\n",
    "# not False is True\n",
    "# not True is False\n",
    "\n",
    "# OR True?\n",
    "# True or False is True\n",
    "# True or True is True\n",
    "# False or True is True\n",
    "# False or False is False\n",
    "\n",
    "# AND True?\n",
    "# True and False is False\n",
    "# True and True is True\n",
    "# False and True is False\n",
    "# False and False is False\n",
    "\n",
    "# NOT OR True?\n",
    "# not (True or False) is False\n",
    "# not (True or True) is False\n",
    "# not (False or True) is False\n",
    "# not (False or False) is True\n",
    "\n",
    "# NOT AND True?\n",
    "# not (True and False) is True\n",
    "# not (True and True) is False\n",
    "# not (False and True) is True\n",
    "# not (False and False) is True\n",
    "\n",
    "# != True?\n",
    "# 1 != 0 is True\n",
    "# 1 != 1 is False\n",
    "# 0 != 1 is True\n",
    "# 0 != 0 is False\n",
    "\n",
    "# == True?\n",
    "# 1 == 0 is False\n",
    "# 1 == 1 is True\n",
    "# 0 == 1 is False\n",
    "# 0 == 0 is True"
   ]
  }
 ],
 "metadata": {
  "kernelspec": {
   "display_name": "Python 3",
   "language": "python",
   "name": "python3"
  },
  "language_info": {
   "codemirror_mode": {
    "name": "ipython",
    "version": 3
   },
   "file_extension": ".py",
   "mimetype": "text/x-python",
   "name": "python",
   "nbconvert_exporter": "python",
   "pygments_lexer": "ipython3",
   "version": "3.6.5"
  }
 },
 "nbformat": 4,
 "nbformat_minor": 2
}
