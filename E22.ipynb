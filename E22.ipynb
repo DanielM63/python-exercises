{
 "cells": [
  {
   "cell_type": "code",
   "execution_count": 16,
   "metadata": {},
   "outputs": [
    {
     "name": "stdout",
     "output_type": "stream",
     "text": [
      "print prints\n",
      "\n",
      "4\n",
      "0\n",
      "1.0\n",
      "4\n",
      "0\n",
      "5\n",
      " Daniel M. \n",
      "Let's talk about Dan E. Martin.\n"
     ]
    },
    {
     "name": "stdin",
     "output_type": "stream",
     "text": [
      " Hello\n"
     ]
    },
    {
     "name": "stdout",
     "output_type": "stream",
     "text": [
      "Hello\n"
     ]
    }
   ],
   "source": [
    "print(\"print prints\")\n",
    "print()\n",
    "\n",
    "# Hashtags kill\n",
    "\n",
    "print(2+2) # is addition\n",
    "print(2-2) # is subtraction\n",
    "print(2/2) # is division \n",
    "print(2*2) # is multiplication\n",
    "print(2%2) # is modulus\n",
    "\n",
    "# Python follows PEMDAS\n",
    "\n",
    "# < > = <= >= != are statements of equality\n",
    "\n",
    "# Declaring int variables\n",
    "variable = 5\n",
    "print(variable)\n",
    "\n",
    "# Declaring string variables \n",
    "s = \" Daniel M. \"\n",
    "print(s)\n",
    "\n",
    "# Inputting variables\n",
    "my_name = 'Dan E. Martin'\n",
    "print (\"Let's talk about %s.\" % my_name)\n",
    "\n",
    "# \\n is a new line\n",
    "# \\t tabs a line\n",
    "# \\\\ prints a backslash\n",
    "# end='' tells print to not end the line with a newline character and go to the next line\n",
    "\n",
    "# How to get an input\n",
    "var = input()\n",
    "print(var)\n",
    "\n"
   ]
  },
  {
   "cell_type": "code",
   "execution_count": null,
   "metadata": {},
   "outputs": [],
   "source": []
  }
 ],
 "metadata": {
  "kernelspec": {
   "display_name": "Python 3",
   "language": "python",
   "name": "python3"
  },
  "language_info": {
   "codemirror_mode": {
    "name": "ipython",
    "version": 3
   },
   "file_extension": ".py",
   "mimetype": "text/x-python",
   "name": "python",
   "nbconvert_exporter": "python",
   "pygments_lexer": "ipython3",
   "version": "3.6.5"
  }
 },
 "nbformat": 4,
 "nbformat_minor": 2
}
